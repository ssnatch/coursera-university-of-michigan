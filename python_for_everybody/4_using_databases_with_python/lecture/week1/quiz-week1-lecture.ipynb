{
 "cells": [
  {
   "cell_type": "markdown",
   "metadata": {},
   "source": [
    "# Object Oriented Programming"
   ]
  },
  {
   "cell_type": "markdown",
   "metadata": {},
   "source": [
    "<img src=\"images/lec1_pic01.png\">\n",
    "<img src=\"images/lec1_pic02.png\">\n",
    "<img src=\"images/lec1_pic03.png\">\n",
    "<img src=\"images/lec1_pic04.png\">\n",
    "<img src=\"images/lec1_pic05.png\">\n",
    "<img src=\"images/lec1_pic06.png\">\n",
    "\n",
    "*Screenshot taken from [Coursera](https://www.coursera.org/learn/python-databases/exam/2fnhb/object-oriented-programming) 4:5*\n",
    "\n",
    "<!--TEASER_END-->"
   ]
  }
 ],
 "metadata": {
  "kernelspec": {
   "display_name": "Python 2",
   "language": "python",
   "name": "python2"
  },
  "language_info": {
   "codemirror_mode": {
    "name": "ipython",
    "version": 2
   },
   "file_extension": ".py",
   "mimetype": "text/x-python",
   "name": "python",
   "nbconvert_exporter": "python",
   "pygments_lexer": "ipython2",
   "version": "2.7.10"
  }
 },
 "nbformat": 4,
 "nbformat_minor": 0
}
