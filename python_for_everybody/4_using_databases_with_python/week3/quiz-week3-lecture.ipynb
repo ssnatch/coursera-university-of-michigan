{
 "cells": [
  {
   "cell_type": "markdown",
   "metadata": {},
   "source": [
    "# Multi-Table Relational SQL"
   ]
  },
  {
   "cell_type": "markdown",
   "metadata": {},
   "source": [
    "<img src=\"images/lec3_pic01.png\">\n",
    "<img src=\"images/lec3_pic02.png\">\n",
    "<img src=\"images/lec3_pic03.png\">\n",
    "<img src=\"images/lec3_pic04.png\">\n",
    "<img src=\"images/lec3_pic05.png\">\n",
    "\n",
    "*Screenshot taken from [Coursera](https://www.coursera.org/learn/python-databases/exam/LW8Y4/multi-table-relational-sql)*\n",
    "\n",
    "<!--TEASER_END-->"
   ]
  }
 ],
 "metadata": {
  "kernelspec": {
   "display_name": "Python 2",
   "language": "python",
   "name": "python2"
  },
  "language_info": {
   "codemirror_mode": {
    "name": "ipython",
    "version": 2
   },
   "file_extension": ".py",
   "mimetype": "text/x-python",
   "name": "python",
   "nbconvert_exporter": "python",
   "pygments_lexer": "ipython2",
   "version": "2.7.10"
  }
 },
 "nbformat": 4,
 "nbformat_minor": 0
}
